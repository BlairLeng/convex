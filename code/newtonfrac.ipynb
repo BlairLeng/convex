{
 "cells": [
  {
   "cell_type": "markdown",
   "metadata": {},
   "source": [
    "# Homework 4 Problem 3: Newton Fractals\n",
    "\n",
    "The sensitivity of Newton’s method to initial conditions can be studied by considering the \"basin of attractions\" of the different critical points of the function. An initial point $x_0$ belongs to the basin of attraction for a critical point $r$ if Newton's method started at point $x_0$ converges to $r.$ \n",
    "\n",
    "The way in which the different basins of attraction partition the space gives us a sense of the sensitivity of Newton's method. This is beautifully demonstrated using plots over the complex plane known as Newton fractals.\n",
    "\n",
    "The following code gives you a setup to easily draw the basins of attractions of Newton's method for functions defined over the complex plane -- don't worry about the complex part here, for the functions we are using the differentiation rules are the same as over the reals. \n",
    "\n",
    "The function ``newton's method(f1,f2,z)`` runs Newton's method at point $z$ on a function with first derivative ``f1`` and second derivative ``f2`` for a maximum of $40$ iterations, or until the method has converged.\n",
    "\n",
    "The function ``draw(f1,f2,img,size)`` creates a ``size`` by ``size`` grid of the $[-1,1] \\times [-1,1]$ square. For each node $u$ of the grid, it run Newton's method to determine the root to which it converges, if any. The point $u$ is then colored according to the root to which it converged. In this way, the basins of attraction can be visualized as colored regions on the plane.  \n",
    "\n",
    "\n"
   ]
  },
  {
   "cell_type": "code",
   "execution_count": null,
   "metadata": {
    "collapsed": false
   },
   "outputs": [],
   "source": [
    "# Written by Austin Walters\n",
    "# \n",
    "\n",
    "from PIL import Image\n",
    "\n",
    "# -1 <= x <= 1\n",
    "x_min = -1.0\n",
    "x_max = 1.0\n",
    "\n",
    "# -i <= y <= i\n",
    "y_min = -1.0\n",
    "y_max = 1.0\n",
    "\n",
    "# color scheme\n",
    "colors = [\\\n",
    "(180, 0, 30), (0, 180, 30), (0, 30, 180), \\\n",
    "(0, 190, 180), (180, 0, 175), (180, 255, 0), \\\n",
    "(155, 170, 180), (70, 50, 0), (255, 255, 255)]\n",
    "\n",
    "\n",
    "\n",
    "# Newton's method\n",
    "def newtons_method(f1, f2, z):\n",
    " \n",
    "   # Fourty iterations for safe measure\n",
    "    for i in range(40):\n",
    "\n",
    "        zplus = z - f1(z)/f2(z)\n",
    "\n",
    "        # Checks for Overflow\n",
    "        if abs(f1(z)) > 10e10:\n",
    "             return None\n",
    "        # Checks for underflow\n",
    "        if abs(f1(z)) < 10e-14:\n",
    "            return None\n",
    "        # Checks for convergence\n",
    "        if abs(zplus - z) < 10e-4:\n",
    "            return z\n",
    "        z = zplus\n",
    "\n",
    "    return None\n",
    "\n",
    "# Draws the functions\n",
    "def draw(f1, f2, img, size):\n",
    "    \n",
    "    roots = []\n",
    "    for y in range(size):\n",
    "        z_y = y * (y_max - y_min)/(size - 1) + y_min\n",
    "        for x in range(size):\n",
    "            z_x = x * (x_max - x_min)/(size - 1) + x_min\n",
    "            root = newtons_method(f1, f2, complex(z_x, z_y))\n",
    "            if root:\n",
    "                flag = False\n",
    "                for test_root in roots:\n",
    "                    if abs(test_root - root) < 10e-3:\n",
    "                        root = test_root\n",
    "                        flag = True\n",
    "                        break\n",
    "                if not flag:\n",
    "                    roots.append(root)\n",
    "            if root:\n",
    "                img.putpixel((x, y), colors[roots.index(root)])\n",
    "    print(roots)\n",
    "    img.show()"
   ]
  },
  {
   "cell_type": "markdown",
   "metadata": {},
   "source": [
    "Next, we show how to produce the visualizations of the basins of attraction for the function $f(z) = \\frac{z^4}{4} - z.$ The derivatives of this function are:\n",
    "$$\n",
    "f'(z) = z^3 - 1,\\\\\n",
    "f''(z) = 3 \\cdot z^2\n",
    "$$\n",
    "The critical points of $f$ in the complex plane are the cubic roots of unity:\n",
    "$$\n",
    "(1,e^{\\frac{2}{3}\\pi i}, e^{\\frac{4}{3}\\pi i}).\n",
    "$$"
   ]
  },
  {
   "cell_type": "code",
   "execution_count": null,
   "metadata": {
    "collapsed": false
   },
   "outputs": [],
   "source": [
    "# function definitions for f=1/4*z^4 - z\n",
    "f1 = lambda z : z * z * z - 1.0\n",
    "f2 = lambda z : 3.0 * (z*z)\n",
    "\n",
    "size = 1024\n",
    "img = Image.new(\"RGB\", (size, size), (255, 255, 255))\n",
    "\n",
    "draw(f1, f2, img, size);"
   ]
  },
  {
   "cell_type": "code",
   "execution_count": null,
   "metadata": {
    "collapsed": true
   },
   "outputs": [],
   "source": []
  }
 ],
 "metadata": {
  "anaconda-cloud": {},
  "kernelspec": {
   "display_name": "Python [conda root]",
   "language": "python",
   "name": "conda-root-py"
  },
  "language_info": {
   "codemirror_mode": {
    "name": "ipython",
    "version": 3
   },
   "file_extension": ".py",
   "mimetype": "text/x-python",
   "name": "python",
   "nbconvert_exporter": "python",
   "pygments_lexer": "ipython3",
   "version": "3.5.2"
  }
 },
 "nbformat": 4,
 "nbformat_minor": 1
}
