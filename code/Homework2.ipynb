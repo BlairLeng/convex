{
 "cells": [
  {
   "cell_type": "markdown",
   "metadata": {},
   "source": [
    "## Homework 2\n",
    "\n",
    "Use this notebook to complete the problems below. First, remember to run the following code block, which imports the required libraries. Let us know on Piazza if a module you want to use is not available."
   ]
  },
  {
   "cell_type": "code",
   "execution_count": 2,
   "metadata": {
    "collapsed": true
   },
   "outputs": [],
   "source": [
    "import sympy as sp\n",
    "from sympy.tensor.array import derive_by_array\n",
    "import numpy as np\n",
    "import matplotlib.pyplot as plt\n",
    "from mpl_toolkits.mplot3d import Axes3D  "
   ]
  },
  {
   "cell_type": "markdown",
   "metadata": {},
   "source": [
    "## Problem 2"
   ]
  },
  {
   "cell_type": "markdown",
   "metadata": {},
   "source": [
    "Find the minimizers and maximizers of the function:\n",
    "$$\n",
    "f(x_1, x_2) = \\frac{1}{3}x_1^3 - 4x_1 + \\frac{1}{3}x^3_2 - 16x_2.  \n",
    "$$\n",
    "Using the Jupyter Notebook associated with this homework, plot the contour plot of $f$ in the interval $[-7,7]\\times[-7,7]$ and use it to verify your answer."
   ]
  },
  {
   "cell_type": "markdown",
   "metadata": {},
   "source": [
    "To help you, we have got you started with the symbolic part of the calculation in this block. \n",
    "Use the plotting functions from Homework 1 to complete the exercise.\n"
   ]
  },
  {
   "cell_type": "code",
   "execution_count": 8,
   "metadata": {
    "collapsed": false
   },
   "outputs": [],
   "source": [
    "x, y = sp.symbols('x,y')                                        # Define symbols x and y\n",
    "fun =1/3*x**3 -4*x +1/3*y**3 - 16*y                         # Define a symbolic expression corresponding to f\n",
    "numfun = sp.lambdify((x,y), fun)                                # This command turns the symbolic expression f into \n",
    "                                                                       # a numerical function of two arguments\n",
    "\n",
    "grad = derive_by_array(fun, [x,y])                              # Computes the gradient of the symbolic expression expr\n",
    "numgrad = sp.lambdify((x,y),grad)                               # Numerical version of the gradient\n",
    "\n",
    "hessian = derive_by_array(grad, [x,y])\n",
    "numhessian = sp.lambdify((x,y),hessian)        \n",
    "\n",
    "\n"
   ]
  },
  {
   "cell_type": "markdown",
   "metadata": {
    "collapsed": false
   },
   "source": [
    "# Problem 5"
   ]
  },
  {
   "cell_type": "markdown",
   "metadata": {},
   "source": [
    "Let $f(x_1, x_2) = (x_1 + x_2)^2 - (x_1 − x_2)^5.$ Derive the 1st order and 2nd order Taylor approximations of $f$ around point $(2, 1)$ by hand. Use the Jupyter notebook to verify your answer using sympy. "
   ]
  },
  {
   "cell_type": "code",
   "execution_count": null,
   "metadata": {
    "collapsed": true
   },
   "outputs": [],
   "source": []
  }
 ],
 "metadata": {
  "anaconda-cloud": {},
  "kernelspec": {
   "display_name": "Python [conda root]",
   "language": "python",
   "name": "conda-root-py"
  },
  "language_info": {
   "codemirror_mode": {
    "name": "ipython",
    "version": 3
   },
   "file_extension": ".py",
   "mimetype": "text/x-python",
   "name": "python",
   "nbconvert_exporter": "python",
   "pygments_lexer": "ipython3",
   "version": "3.5.2"
  }
 },
 "nbformat": 4,
 "nbformat_minor": 1
}
