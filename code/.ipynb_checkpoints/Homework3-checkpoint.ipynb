{
 "cells": [
  {
   "cell_type": "markdown",
   "metadata": {},
   "source": [
    "## Image Compression using SVD ##\n",
    "\n",
    "If you are not using the mybinder link, you may have to install the opencv and numpy packages for this homework. We recommend using [anaconda](https://anaconda.org/) both as a python distribution and as a package manager. Anaconda is available in most BU systems."
   ]
  },
  {
   "cell_type": "code",
   "execution_count": 3,
   "metadata": {
    "collapsed": true
   },
   "outputs": [],
   "source": [
    "import numpy as np\n",
    "from numpy import linalg\n",
    "import cv2"
   ]
  },
  {
   "cell_type": "code",
   "execution_count": 6,
   "metadata": {
    "collapsed": false
   },
   "outputs": [
    {
     "name": "stdout",
     "output_type": "stream",
     "text": [
      "[[-0.0208116  -0.03350122 -0.0208303  ... -0.02832306 -0.01424144\n",
      "  -0.02037582]\n",
      " [-0.02083737 -0.0336752  -0.02143937 ...  0.04432803  0.04288162\n",
      "   0.04023375]\n",
      " [-0.02086727 -0.03397965 -0.02220028 ... -0.00720492 -0.05132157\n",
      "  -0.02606476]\n",
      " ...\n",
      " [-0.02314434  0.0459484  -0.0155043  ... -0.01087668  0.0081686\n",
      "   0.00601552]\n",
      " [-0.02296679  0.04574857 -0.01479585 ...  0.00740619 -0.00847736\n",
      "   0.00382918]\n",
      " [-0.0228935   0.04528294 -0.01436904 ... -0.00371859  0.00620745\n",
      "  -0.00300515]]\n"
     ]
    },
    {
     "data": {
      "text/plain": [
       "True"
      ]
     },
     "execution_count": 6,
     "metadata": {},
     "output_type": "execute_result"
    }
   ],
   "source": [
    "# load a color image in grayscale\n",
    "img = cv2.imread('maryam.jpg', 0)\n",
    "\n",
    "# make the image into a matrix\n",
    "A = np.array(img)\n",
    "\n",
    "# compute the SVD of A\n",
    "U,S,V = linalg.svd(A)\n",
    "print(U)\n",
    "\n",
    "# show the image\n",
    "#cv2.imshow('image',A)\n",
    "#cv2.waitKey(0)\n",
    "\n",
    "# write the  image\n",
    "#cv2.imwrite('maryam-gray.png',A)\n"
   ]
  },
  {
   "cell_type": "code",
   "execution_count": 12,
   "metadata": {
    "collapsed": true
   },
   "outputs": [],
   "source": []
  }
 ],
 "metadata": {
  "anaconda-cloud": {},
  "kernelspec": {
   "display_name": "Python [default]",
   "language": "python",
   "name": "python3"
  },
  "language_info": {
   "codemirror_mode": {
    "name": "ipython",
    "version": 3
   },
   "file_extension": ".py",
   "mimetype": "text/x-python",
   "name": "python",
   "nbconvert_exporter": "python",
   "pygments_lexer": "ipython3",
   "version": "3.5.2"
  }
 },
 "nbformat": 4,
 "nbformat_minor": 2
}
