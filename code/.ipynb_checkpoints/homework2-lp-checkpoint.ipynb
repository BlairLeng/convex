{
 "cells": [
  {
   "cell_type": "markdown",
   "metadata": {},
   "source": [
    "# Homework 2 \n",
    "\n",
    "## Quick Introduction to CVXPY"
   ]
  },
  {
   "cell_type": "markdown",
   "metadata": {},
   "source": [
    "[CVXPY](https://www.cvxpy.org/tutorial/intro/index.html) is a Python-embedded modeling language for convex optimization problems. It allows you to express your problem in a natural way that follows the math, rather than in the restrictive standard form required by solvers.\n",
    "\n",
    "We have preloaded this Jupyter notebook with cvxpy, so you can get your hands dirty right away. Feel free to make changes to this notebook, as each time you open you will get a different instantiation."
   ]
  },
  {
   "cell_type": "markdown",
   "metadata": {},
   "source": [
    "## A Linear Program\n",
    "\n",
    "Let's start with a simple example of a Linear Program, i.e., an optimization problem with a linear objective and linear inequality constraints.\n",
    "\n",
    "$$\n",
    "\\begin{align}\n",
    "\\max  \\; & 140x + 235y\\\\\n",
    "\\textrm{s.t.}\\;  & x + 2y \\leq 240,\\\\\n",
    " & 3x + y \\leq 300\\\\\n",
    " & x \\geq 0, y \\geq 0.\n",
    "\\end{align}\n",
    "$$\n",
    "\n",
    "Here is how you code this up and solve it using CVXPY."
   ]
  },
  {
   "cell_type": "code",
   "execution_count": null,
   "metadata": {
    "collapsed": false
   },
   "outputs": [],
   "source": [
    "import cvxpy as cvx\n",
    "import numpy\n",
    "\n",
    "# Create two scalar optimization variables\n",
    "x = cvx.Variable()\n",
    "y = cvx.Variable()\n",
    "\n",
    "# Create constraints\n",
    "constraints = [x >= 0,\n",
    "               y >= 0,\n",
    "               x + 2*y <= 240,\n",
    "               3 * x + y <= 300]\n",
    "\n",
    "# Form objective\n",
    "obj = cvx.Maximize(140*x +235*y)\n",
    "\n",
    "# Form and solve problem.\n",
    "prob = cvx.Problem(obj, constraints)\n",
    "prob.solve()  \n",
    "\n",
    "print(\"status:\", prob.status)\n",
    "print(\"optimal value\", prob.value)\n",
    "print(\"optimal var\", x.value, y.value)"
   ]
  },
  {
   "cell_type": "markdown",
   "metadata": {
    "collapsed": true
   },
   "source": [
    "CVXPY makes it easy to change the problem formulation. For example, we can add the constraint\n",
    "$$\n",
    "x + y \\leq 180,\n",
    "$$\n",
    "and solve the problem again."
   ]
  },
  {
   "cell_type": "code",
   "execution_count": null,
   "metadata": {
    "collapsed": false
   },
   "outputs": [],
   "source": [
    "constraints.append( x + y <= 180)\n",
    "\n",
    "prob = cvx.Problem(obj, constraints) \n",
    "prob.solve()\n",
    "\n",
    "print(\"status:\", prob.status) \n",
    "print(\"optimal value\", prob.value)\n",
    "print(\"optimal var\", x.value, y.value)"
   ]
  },
  {
   "cell_type": "markdown",
   "metadata": {},
   "source": [
    "When solving any constrained convex program, CVXPY also allows us to recover an optimal assignment to the dual variables corresponding to the constraints. "
   ]
  },
  {
   "cell_type": "code",
   "execution_count": null,
   "metadata": {
    "collapsed": false
   },
   "outputs": [],
   "source": [
    "print(\"optimal (x + 2*y <= 240) dual variable\", constraints[2].dual_value)\n",
    "print(\"optimal (3*x + y <= 300) dual variable\", constraints[3].dual_value)\n",
    "print(\"optimal (x + y <= 180) dual variable\", constraints[4].dual_value)"
   ]
  },
  {
   "cell_type": "markdown",
   "metadata": {},
   "source": [
    "# Exercise\n",
    "\n",
    "Use CVXPY to construct and solve the linear programming formulation of $s$-$t$ shortest path from Problem 5 over the graph below, where edges are labeled by their length.\n",
    "\n",
    "![Flow Graph](flow.png)\n",
    "Submit your code and your solution (including primal and dual optimal solutions) as a pdf through gradescope with the rest of the homework."
   ]
  },
  {
   "cell_type": "markdown",
   "metadata": {},
   "source": [
    "__Note__: There are two strategies to accomplish this. The simplest one is to explicitly write all the constraints for the linear program algebraically as done in the example above. If you are more comfortable with Python, you could try to use the object oriented approach described [here](https://www.cvxpy.org/examples/applications/OOCO.html)."
   ]
  }
 ],
 "metadata": {
  "anaconda-cloud": {},
  "kernelspec": {
   "display_name": "Python [default]",
   "language": "python",
   "name": "python3"
  },
  "language_info": {
   "codemirror_mode": {
    "name": "ipython",
    "version": 3
   },
   "file_extension": ".py",
   "mimetype": "text/x-python",
   "name": "python",
   "nbconvert_exporter": "python",
   "pygments_lexer": "ipython3",
   "version": "3.5.2"
  },
  "latex_envs": {
   "LaTeX_envs_menu_present": true,
   "autocomplete": false,
   "bibliofile": "biblio.bib",
   "cite_by": "apalike",
   "current_citInitial": 1,
   "eqLabelWithNumbers": true,
   "eqNumInitial": 1,
   "hotkeys": {
    "equation": "Ctrl-E",
    "itemize": "Ctrl-I"
   },
   "labels_anchors": true,
   "latex_user_defs": true,
   "report_style_numbering": false,
   "user_envs_cfg": true
  }
 },
 "nbformat": 4,
 "nbformat_minor": 1
}
