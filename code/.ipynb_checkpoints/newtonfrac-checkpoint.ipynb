{
 "cells": [
  {
   "cell_type": "code",
   "execution_count": null,
   "metadata": {
    "collapsed": true
   },
   "outputs": [],
   "source": [
    "# Written by Austin Walters\n",
    "# \n",
    "\n",
    "from PIL import Image\n",
    "\n",
    "# -1 <= x <= 1\n",
    "x_min = -1.0\n",
    "x_max = 1.0\n",
    "\n",
    "# -i <= y <= i\n",
    "y_min = -1.0\n",
    "y_max = 1.0\n",
    "\n",
    "# color scheme\n",
    "colors = [\\\n",
    "(180, 0, 30), (0, 180, 30), (0, 30, 180), \\\n",
    "(0, 190, 180), (180, 0, 175), (180, 255, 0), \\\n",
    "(155, 170, 180), (70, 50, 0), (255, 255, 255)]\n",
    "\n",
    "# function definitions\n",
    "def cubed(z): return z * z * z - 1.0\n",
    "def dcubed(z): return 3.0 * (z*z)\n",
    "\n",
    "def squared(z): return (z*z) - (2.0 * z) + 2.0\n",
    "def dsquared(z): return 2.0 * z  - 2.0\n",
    "\n",
    "def cubedplus(z): return z * z * z - 2.0 * z + 2.0\n",
    "def dcubedplus(z): return 3.0 * z * z - 2.0\n",
    "\n",
    "def fun(z): return (z*z*z*z*z*z) - (z*z*z) + 2.0\n",
    "def dfun(z): return 6.0 * (z*z*z*z*z) - 3.0 * (z*z) \n",
    "\n",
    "def fourth(z) : return (z*z*z*z) - 1\n",
    "def dfourth(z) : return 4*z*z*z \n",
    "\n",
    "def fifth(z): return (z*z*z*z*z) - (z)\n",
    "def dfifth(z): return 5.0 * (z*z*z*z) - 1\n",
    "\n",
    "\n",
    "# Newton's method\n",
    "def newtons_method(f, f_prime, z):\n",
    " \n",
    "   # Fourty iterations for safe measure\n",
    "    for i in range(40):\n",
    "\n",
    "        zplus = z - f(z)/f_prime(z)\n",
    "\n",
    "        # Checks for Overflow\n",
    "        if abs(f(z)) > 10e10:\n",
    "             return None\n",
    "        # Checks for underflow\n",
    "        if abs(f(z)) < 10e-14:\n",
    "            return None\n",
    "        # Checks for convergence\n",
    "        if abs(zplus - z) < 10e-4:\n",
    "            return z\n",
    "        z = zplus\n",
    "\n",
    "    return None\n",
    "\n",
    "# Draws the functions\n",
    "def draw(f, f_prime, img, size, img_name):\n",
    "    \n",
    "    roots = []\n",
    "    for y in range(size):\n",
    "        z_y = y * (y_max - y_min)/(size - 1) + y_min\n",
    "        for x in range(size):\n",
    "            z_x = x * (x_max - x_min)/(size - 1) + x_min\n",
    "            root = newtons_method(f, f_prime, complex(z_x, z_y))\n",
    "            if root:\n",
    "                flag = False\n",
    "                for test_root in roots:\n",
    "                    if abs(test_root - root) < 10e-3:\n",
    "                        root = test_root\n",
    "                        flag = True\n",
    "                        break\n",
    "                if not flag:\n",
    "                    roots.append(root)\n",
    "            if root:\n",
    "                img.putpixel((x, y), colors[roots.index(root)])\n",
    "    print(roots)\n",
    "    # img.save(img_name, \"PNG\")\n",
    "    img.show()\n",
    "\n",
    "size = 1024\n",
    "img = Image.new(\"RGB\", (size, size), (255, 255, 255))\n",
    "\n",
    "draw(lambda z: fourth(z), lambda z: dfourth(z), img, size, \"fig1.png\");\n",
    "#draw(lambda z: cubed(z), lambda z: dcubed(z), img, size, \"fig1.png\");\n",
    "#draw(lambda z: squared(z), lambda z: dsquared(z), img, size, \"fig2.png\");\n",
    "#draw(lambda z: fun(z), lambda z: dfun(z), img, size, \"fig3.png\");\n",
    "#draw(lambda z: cubedplus(z), lambda z: dcubedplus(z), img, size, \"fig4.png\");\n",
    "#draw(lambda z: fifth(z), lambda z: dfifth(z), img, size, \"fig5.png\");"
   ]
  },
  {
   "cell_type": "code",
   "execution_count": null,
   "metadata": {
    "collapsed": false
   },
   "outputs": [],
   "source": []
  },
  {
   "cell_type": "code",
   "execution_count": null,
   "metadata": {
    "collapsed": false
   },
   "outputs": [],
   "source": []
  },
  {
   "cell_type": "code",
   "execution_count": null,
   "metadata": {
    "collapsed": false
   },
   "outputs": [],
   "source": []
  },
  {
   "cell_type": "code",
   "execution_count": null,
   "metadata": {
    "collapsed": false
   },
   "outputs": [],
   "source": []
  },
  {
   "cell_type": "code",
   "execution_count": null,
   "metadata": {
    "collapsed": false
   },
   "outputs": [],
   "source": []
  },
  {
   "cell_type": "code",
   "execution_count": null,
   "metadata": {
    "collapsed": true
   },
   "outputs": [],
   "source": []
  }
 ],
 "metadata": {
  "anaconda-cloud": {},
  "kernelspec": {
   "display_name": "Python [conda root]",
   "language": "python",
   "name": "conda-root-py"
  },
  "language_info": {
   "codemirror_mode": {
    "name": "ipython",
    "version": 3
   },
   "file_extension": ".py",
   "mimetype": "text/x-python",
   "name": "python",
   "nbconvert_exporter": "python",
   "pygments_lexer": "ipython3",
   "version": "3.5.2"
  }
 },
 "nbformat": 4,
 "nbformat_minor": 1
}
