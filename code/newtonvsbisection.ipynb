{
 "cells": [
  {
   "cell_type": "code",
   "execution_count": 31,
   "metadata": {
    "collapsed": false
   },
   "outputs": [
    {
     "name": "stdout",
     "output_type": "stream",
     "text": [
      "0\t12\n",
      "1\t8.023148148148149\n",
      "2\t5.40054866041945\n",
      "3\t3.714654390828677\n",
      "4\t2.7180056592670385\n",
      "5\t2.263213061967483\n",
      "6\t2.1595792163864065\n",
      "7\t2.1544469355357383\n",
      "8\t2.154434690101485\n",
      "9\t2.154434690031884\n",
      "10\t2.154434690031884\n",
      "11\t2.154434690031884\n",
      "12\t2.154434690031884\n"
     ]
    },
    {
     "data": {
      "text/plain": [
       "2.154434690031884"
      ]
     },
     "execution_count": 31,
     "metadata": {},
     "output_type": "execute_result"
    }
   ],
   "source": [
    "import numpy as np\n",
    "\n",
    "f1 = lambda x : x**3-10\n",
    "f2 = lambda x : 3*x**2\n",
    "\n",
    "## Newton's method\n",
    "\n",
    "def newton(f1,f2,x0,k):\n",
    "    x = x0\n",
    "    for i in range(0,k):\n",
    "      print(i, x, sep='\\t')  \n",
    "      x = x - f1(x)/f2(x)\n",
    "      i += 1\n",
    "    print(i, x, sep='\\t')\n",
    "    return x\n",
    "\n",
    "def bisection(a,b,k):\n",
    "    for i in range(0,k):\n",
    "        sig = f1((a+b)/2)\n",
    "        if (sig < 0):\n",
    "            a = (a+b)/2\n",
    "        else: \n",
    "            b = (a+b)/2\n",
    "        print(i, a, (a+b)/2, b, sep='\\t\\t\\t')\n",
    "        i += 1\n",
    "    return (a+b)/2\n",
    "\n",
    "newton(f1,f2,12,12)"
   ]
  },
  {
   "cell_type": "code",
   "execution_count": 32,
   "metadata": {
    "collapsed": false
   },
   "outputs": [
    {
     "name": "stdout",
     "output_type": "stream",
     "text": [
      "0\t12\n",
      "1\t8.023148148148149\n",
      "2\t5.40054866041945\n",
      "3\t3.714654390828677\n",
      "4\t2.7180056592670385\n",
      "5\t2.263213061967483\n",
      "6\t2.1595792163864065\n",
      "7\t2.1544469355357383\n",
      "8\t2.154434690101485\n",
      "9\t2.154434690031884\n",
      "10\t2.154434690031884\n",
      "11\t2.154434690031884\n",
      "12\t2.154434690031884\n"
     ]
    },
    {
     "data": {
      "text/plain": [
       "2.154434690031884"
      ]
     },
     "execution_count": 32,
     "metadata": {},
     "output_type": "execute_result"
    }
   ],
   "source": [
    "newton(f1,f2,12,12)"
   ]
  },
  {
   "cell_type": "code",
   "execution_count": 33,
   "metadata": {
    "collapsed": false
   },
   "outputs": [
    {
     "name": "stdout",
     "output_type": "stream",
     "text": [
      "0\t\t\t0\t\t\t3.0\t\t\t6.0\n",
      "1\t\t\t0\t\t\t1.5\t\t\t3.0\n",
      "2\t\t\t1.5\t\t\t2.25\t\t\t3.0\n",
      "3\t\t\t1.5\t\t\t1.875\t\t\t2.25\n",
      "4\t\t\t1.875\t\t\t2.0625\t\t\t2.25\n",
      "5\t\t\t2.0625\t\t\t2.15625\t\t\t2.25\n",
      "6\t\t\t2.0625\t\t\t2.109375\t\t\t2.15625\n",
      "7\t\t\t2.109375\t\t\t2.1328125\t\t\t2.15625\n",
      "8\t\t\t2.1328125\t\t\t2.14453125\t\t\t2.15625\n",
      "9\t\t\t2.14453125\t\t\t2.150390625\t\t\t2.15625\n",
      "10\t\t\t2.150390625\t\t\t2.1533203125\t\t\t2.15625\n",
      "11\t\t\t2.1533203125\t\t\t2.15478515625\t\t\t2.15625\n"
     ]
    },
    {
     "data": {
      "text/plain": [
       "2.15478515625"
      ]
     },
     "execution_count": 33,
     "metadata": {},
     "output_type": "execute_result"
    }
   ],
   "source": [
    "bisection(0,12,12)"
   ]
  },
  {
   "cell_type": "code",
   "execution_count": null,
   "metadata": {
    "collapsed": true
   },
   "outputs": [],
   "source": []
  }
 ],
 "metadata": {
  "anaconda-cloud": {},
  "kernelspec": {
   "display_name": "Python [conda env:py35]",
   "language": "python",
   "name": "conda-env-py35-py"
  },
  "language_info": {
   "codemirror_mode": {
    "name": "ipython",
    "version": 3
   },
   "file_extension": ".py",
   "mimetype": "text/x-python",
   "name": "python",
   "nbconvert_exporter": "python",
   "pygments_lexer": "ipython3",
   "version": "3.5.2"
  }
 },
 "nbformat": 4,
 "nbformat_minor": 1
}
