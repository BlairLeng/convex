{
 "cells": [
  {
   "cell_type": "code",
   "execution_count": 11,
   "metadata": {
    "collapsed": false
   },
   "outputs": [
    {
     "name": "stdout",
     "output_type": "stream",
     "text": [
      "0\t12\n",
      "1\t8.023148148148149\n",
      "2\t5.40054866041945\n",
      "3\t3.714654390828677\n",
      "4\t2.7180056592670385\n",
      "5\t2.263213061967483\n",
      "6\t2.1595792163864065\n",
      "7\t2.1544469355357383\n",
      "8\t2.154434690101485\n",
      "9\t2.154434690031884\n",
      "10\t2.154434690031884\n",
      "11\t2.154434690031884\n",
      "12\t2.154434690031884\n"
     ]
    },
    {
     "data": {
      "text/plain": [
       "2.154434690031884"
      ]
     },
     "execution_count": 11,
     "metadata": {},
     "output_type": "execute_result"
    }
   ],
   "source": [
    "import numpy as np\n",
    "\n",
    "f1 = lambda x : x**3-10\n",
    "f2 = lambda x : 3*x**2\n",
    "\n",
    "## Newton's method\n",
    "\n",
    "def newton(f1,f2,x0,k):\n",
    "    x = x0\n",
    "    for i in range(0,k):\n",
    "      print(i, x, sep='\\t')  \n",
    "      x = x - f1(x)/f2(x)\n",
    "      i += 1\n",
    "    return x\n",
    "\n",
    "def bisection(a,b,k):\n",
    "    for i in range(0,k):\n",
    "        sig = f1((a+b)/2)\n",
    "        if (sig < 0):\n",
    "            a = (a+b)/2\n",
    "        else: \n",
    "            b = (a+b)/2\n",
    "        print(repr(i).ljust(20) + repr(a).ljust(20) + repr((a+b)/2).ljust(20) + repr(b).ljust(20))\n",
    "        i += 1\n",
    "    return (a+b)/2\n",
    "\n",
    "newton(f1,f2,12,12)"
   ]
  },
  {
   "cell_type": "code",
   "execution_count": 12,
   "metadata": {
    "collapsed": false
   },
   "outputs": [
    {
     "name": "stdout",
     "output_type": "stream",
     "text": [
      "0\t12\n",
      "1\t8.023148148148149\n",
      "2\t5.40054866041945\n",
      "3\t3.714654390828677\n",
      "4\t2.7180056592670385\n",
      "5\t2.263213061967483\n",
      "6\t2.1595792163864065\n",
      "7\t2.1544469355357383\n",
      "8\t2.154434690101485\n",
      "9\t2.154434690031884\n",
      "10\t2.154434690031884\n",
      "11\t2.154434690031884\n",
      "12\t2.154434690031884\n"
     ]
    },
    {
     "data": {
      "text/plain": [
       "2.154434690031884"
      ]
     },
     "execution_count": 12,
     "metadata": {},
     "output_type": "execute_result"
    }
   ],
   "source": [
    "newton(f1,f2,12,12)"
   ]
  },
  {
   "cell_type": "code",
   "execution_count": 13,
   "metadata": {
    "collapsed": false
   },
   "outputs": [
    {
     "name": "stdout",
     "output_type": "stream",
     "text": [
      "0                   0                   3.0                 6.0                 \n",
      "1                   0                   1.5                 3.0                 \n",
      "2                   1.5                 2.25                3.0                 \n",
      "3                   1.5                 1.875               2.25                \n",
      "4                   1.875               2.0625              2.25                \n",
      "5                   2.0625              2.15625             2.25                \n",
      "6                   2.0625              2.109375            2.15625             \n",
      "7                   2.109375            2.1328125           2.15625             \n",
      "8                   2.1328125           2.14453125          2.15625             \n",
      "9                   2.14453125          2.150390625         2.15625             \n",
      "10                  2.150390625         2.1533203125        2.15625             \n",
      "11                  2.1533203125        2.15478515625       2.15625             \n"
     ]
    },
    {
     "data": {
      "text/plain": [
       "2.15478515625"
      ]
     },
     "execution_count": 13,
     "metadata": {},
     "output_type": "execute_result"
    }
   ],
   "source": [
    "bisection(0,12,12)"
   ]
  },
  {
   "cell_type": "code",
   "execution_count": null,
   "metadata": {
    "collapsed": true
   },
   "outputs": [],
   "source": []
  }
 ],
 "metadata": {
  "anaconda-cloud": {},
  "kernelspec": {
   "display_name": "Python [conda env:anaconda]",
   "language": "python",
   "name": "conda-env-anaconda-py"
  },
  "language_info": {
   "codemirror_mode": {
    "name": "ipython",
    "version": 3
   },
   "file_extension": ".py",
   "mimetype": "text/x-python",
   "name": "python",
   "nbconvert_exporter": "python",
   "pygments_lexer": "ipython3",
   "version": "3.5.2"
  }
 },
 "nbformat": 4,
 "nbformat_minor": 1
}
